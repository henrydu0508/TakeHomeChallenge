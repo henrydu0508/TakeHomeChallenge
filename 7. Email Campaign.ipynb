{
 "cells": [
  {
   "cell_type": "markdown",
   "id": "15ddcd22",
   "metadata": {},
   "source": [
    "# Goal\n",
    "\n",
    "Optimizing marketing campaigns is one of the most common data science tasks. Among the many possible marketing tools, one of the most eﬃcient is using emails. Emails are great cause they are free and can be easily personalized. Email optimization involves personalizing the text and/or the subject, who should receive it, when should be sent, etc. Machine Learning excels at this. \n",
    "\n",
    "# Challenge Description\n",
    "The marketing team of an e-commerce site has launched an email campaign. This site has email addresses from all the users who created an account in the past. They have chosen a random sample of users and emailed them. The email let the user know about a new feature implemented on the site. From the marketing team perspective, a success is if the user clicks on the link inside of the email. This link takes the user to the company site.\n",
    "\n",
    "You are in charge of ﬁguring out how the email campaign performed and were asked the following questions: \n",
    "\n",
    "* What percentage of users opened the email and what percentage clicked on the link within the email? \n",
    "* The VP of marketing thinks that it is stupid to send emails to a random subset and in a random way. Based on all the information you have about the emails that were sent, can you build a model to optimize in future email campaigns to maximize the probability of users clicking on the link inside the email? \n",
    "* By how much do you think your model would improve click through rate ( deﬁned as # of users who click on the link / total users who received the email). \n",
    "* How would you test that? Did you ﬁnd any interesting pattern on how the email campaign performed for diﬀerent segments of users? Explain.\n",
    "\n",
    "# Data\n",
    "\n",
    "The 3 tables are:  \n",
    "## **\"email_table\" - info about each email that was sent**\n",
    "  \n",
    "Columns:\n",
    "* **email_id** : the Id of the email that was sent. It is unique by email\n",
    "* **email_text** : there are two versions of the email: one has \"long text\" (i.e. has 4 paragraphs) and one has \"short text\" (just 2 paragraphs)\n",
    "* **email_version** : some emails were \"personalized\" (i.e. they had the name of the user receiving the email in the incipit, such as \"Hi John,\"), while some emails were \"generic\" (the incipit was just \"Hi,\").\n",
    "* **hour** : the user local time when the email was sent.\n",
    "* **weekday** : the day when the email was sent.\n",
    "* **user_country** : the country where the user receiving the email was based. It comes from the user ip address when she created the account.\n",
    "* **user_past_purchases** : how many items in the past were bought by the user receiving the email\n",
    "\n",
    "## **\"email_opened_table\" -  the id of the emails that were opened at least once.**\n",
    "Columns:\n",
    "* **email_id** : the id of the emails that were opened, i.e. the user clicked on the email and, supposedly, read it.\n",
    "\n",
    "## **\"link_clicked_table\" -  the id of the emails whose link inside was clicked\n",
    "at least once. This user was then brought to the site.**\n",
    "\n",
    "Columns:\n",
    "* **email_id** : if the user clicked on the link within the email, then the id of the email shows up on this table.\n",
    "\n",
    "# Analysis\n",
    "\n",
    "## Load library and data"
   ]
  },
  {
   "cell_type": "code",
   "execution_count": 256,
   "id": "b8388ce7",
   "metadata": {},
   "outputs": [],
   "source": [
    "import itertools\n",
    "import _pickle as cPickle\n",
    "import numpy as np\n",
    "import pandas as pd\n",
    "import matplotlib.pyplot as plt\n",
    "import seaborn as sns\n",
    "plt.style.use(\"ggplot\")\n",
    "from sklearn.feature_selection import chi2,f_classif\n",
    "from sklearn.preprocessing import LabelEncoder\n",
    "from sklearn.metrics import classification_report,roc_curve,precision_score,recall_score,auc,precision_recall_curve,plot_confusion_matrix,accuracy_score\n",
    "from sklearn.model_selection import train_test_split\n",
    "from sklearn.ensemble import RandomForestClassifier\n",
    "import xgboost as xgb\n",
    "import warnings\n",
    "warnings.filterwarnings('ignore')\n",
    "warnings.filterwarnings(action='ignore', category=UserWarning)\n",
    "\n",
    "seed = 9999\n",
    "plt.style.use('ggplot')\n",
    "%matplotlib inline"
   ]
  },
  {
   "cell_type": "code",
   "execution_count": 22,
   "id": "7b62feda",
   "metadata": {},
   "outputs": [
    {
     "data": {
      "text/html": [
       "<div>\n",
       "<style scoped>\n",
       "    .dataframe tbody tr th:only-of-type {\n",
       "        vertical-align: middle;\n",
       "    }\n",
       "\n",
       "    .dataframe tbody tr th {\n",
       "        vertical-align: top;\n",
       "    }\n",
       "\n",
       "    .dataframe thead th {\n",
       "        text-align: right;\n",
       "    }\n",
       "</style>\n",
       "<table border=\"1\" class=\"dataframe\">\n",
       "  <thead>\n",
       "    <tr style=\"text-align: right;\">\n",
       "      <th></th>\n",
       "      <th>email_text</th>\n",
       "      <th>email_version</th>\n",
       "      <th>hour</th>\n",
       "      <th>weekday</th>\n",
       "      <th>user_country</th>\n",
       "      <th>user_past_purchases</th>\n",
       "    </tr>\n",
       "    <tr>\n",
       "      <th>email_id</th>\n",
       "      <th></th>\n",
       "      <th></th>\n",
       "      <th></th>\n",
       "      <th></th>\n",
       "      <th></th>\n",
       "      <th></th>\n",
       "    </tr>\n",
       "  </thead>\n",
       "  <tbody>\n",
       "    <tr>\n",
       "      <th>85120</th>\n",
       "      <td>short_email</td>\n",
       "      <td>personalized</td>\n",
       "      <td>2</td>\n",
       "      <td>Sunday</td>\n",
       "      <td>US</td>\n",
       "      <td>5</td>\n",
       "    </tr>\n",
       "    <tr>\n",
       "      <th>966622</th>\n",
       "      <td>long_email</td>\n",
       "      <td>personalized</td>\n",
       "      <td>12</td>\n",
       "      <td>Sunday</td>\n",
       "      <td>UK</td>\n",
       "      <td>2</td>\n",
       "    </tr>\n",
       "    <tr>\n",
       "      <th>777221</th>\n",
       "      <td>long_email</td>\n",
       "      <td>personalized</td>\n",
       "      <td>11</td>\n",
       "      <td>Wednesday</td>\n",
       "      <td>US</td>\n",
       "      <td>2</td>\n",
       "    </tr>\n",
       "    <tr>\n",
       "      <th>493711</th>\n",
       "      <td>short_email</td>\n",
       "      <td>generic</td>\n",
       "      <td>6</td>\n",
       "      <td>Monday</td>\n",
       "      <td>UK</td>\n",
       "      <td>1</td>\n",
       "    </tr>\n",
       "    <tr>\n",
       "      <th>106887</th>\n",
       "      <td>long_email</td>\n",
       "      <td>generic</td>\n",
       "      <td>14</td>\n",
       "      <td>Monday</td>\n",
       "      <td>US</td>\n",
       "      <td>6</td>\n",
       "    </tr>\n",
       "  </tbody>\n",
       "</table>\n",
       "</div>"
      ],
      "text/plain": [
       "           email_text email_version  hour    weekday user_country  \\\n",
       "email_id                                                            \n",
       "85120     short_email  personalized     2     Sunday           US   \n",
       "966622     long_email  personalized    12     Sunday           UK   \n",
       "777221     long_email  personalized    11  Wednesday           US   \n",
       "493711    short_email       generic     6     Monday           UK   \n",
       "106887     long_email       generic    14     Monday           US   \n",
       "\n",
       "          user_past_purchases  \n",
       "email_id                       \n",
       "85120                       5  \n",
       "966622                      2  \n",
       "777221                      2  \n",
       "493711                      1  \n",
       "106887                      6  "
      ]
     },
     "execution_count": 22,
     "metadata": {},
     "output_type": "execute_result"
    }
   ],
   "source": [
    "emails = pd.read_csv(\"email_table.csv\",index_col=\"email_id\")\n",
    "emails.head()"
   ]
  },
  {
   "cell_type": "markdown",
   "id": "db663aaf",
   "metadata": {},
   "source": [
    "Since we need convert features into numerical in the later analysis. I decided to simplify the dataframe first.  \n",
    "And then assemble emails’ response together"
   ]
  },
  {
   "cell_type": "code",
   "execution_count": 24,
   "id": "89795103",
   "metadata": {},
   "outputs": [
    {
     "data": {
      "text/html": [
       "<div>\n",
       "<style scoped>\n",
       "    .dataframe tbody tr th:only-of-type {\n",
       "        vertical-align: middle;\n",
       "    }\n",
       "\n",
       "    .dataframe tbody tr th {\n",
       "        vertical-align: top;\n",
       "    }\n",
       "\n",
       "    .dataframe thead th {\n",
       "        text-align: right;\n",
       "    }\n",
       "</style>\n",
       "<table border=\"1\" class=\"dataframe\">\n",
       "  <thead>\n",
       "    <tr style=\"text-align: right;\">\n",
       "      <th></th>\n",
       "      <th>hour</th>\n",
       "      <th>weekday</th>\n",
       "      <th>country</th>\n",
       "      <th>purchases</th>\n",
       "      <th>is_personalized</th>\n",
       "      <th>long_email</th>\n",
       "      <th>response</th>\n",
       "    </tr>\n",
       "    <tr>\n",
       "      <th>email_id</th>\n",
       "      <th></th>\n",
       "      <th></th>\n",
       "      <th></th>\n",
       "      <th></th>\n",
       "      <th></th>\n",
       "      <th></th>\n",
       "      <th></th>\n",
       "    </tr>\n",
       "  </thead>\n",
       "  <tbody>\n",
       "    <tr>\n",
       "      <th>85120</th>\n",
       "      <td>2</td>\n",
       "      <td>7</td>\n",
       "      <td>US</td>\n",
       "      <td>5</td>\n",
       "      <td>1</td>\n",
       "      <td>0</td>\n",
       "      <td>received</td>\n",
       "    </tr>\n",
       "    <tr>\n",
       "      <th>966622</th>\n",
       "      <td>12</td>\n",
       "      <td>7</td>\n",
       "      <td>UK</td>\n",
       "      <td>2</td>\n",
       "      <td>1</td>\n",
       "      <td>1</td>\n",
       "      <td>clicked</td>\n",
       "    </tr>\n",
       "    <tr>\n",
       "      <th>777221</th>\n",
       "      <td>11</td>\n",
       "      <td>3</td>\n",
       "      <td>US</td>\n",
       "      <td>2</td>\n",
       "      <td>1</td>\n",
       "      <td>1</td>\n",
       "      <td>received</td>\n",
       "    </tr>\n",
       "    <tr>\n",
       "      <th>493711</th>\n",
       "      <td>6</td>\n",
       "      <td>1</td>\n",
       "      <td>UK</td>\n",
       "      <td>1</td>\n",
       "      <td>0</td>\n",
       "      <td>0</td>\n",
       "      <td>received</td>\n",
       "    </tr>\n",
       "    <tr>\n",
       "      <th>106887</th>\n",
       "      <td>14</td>\n",
       "      <td>1</td>\n",
       "      <td>US</td>\n",
       "      <td>6</td>\n",
       "      <td>0</td>\n",
       "      <td>1</td>\n",
       "      <td>received</td>\n",
       "    </tr>\n",
       "  </tbody>\n",
       "</table>\n",
       "</div>"
      ],
      "text/plain": [
       "          hour  weekday country  purchases  is_personalized  long_email  \\\n",
       "email_id                                                                  \n",
       "85120        2        7      US          5                1           0   \n",
       "966622      12        7      UK          2                1           1   \n",
       "777221      11        3      US          2                1           1   \n",
       "493711       6        1      UK          1                0           0   \n",
       "106887      14        1      US          6                0           1   \n",
       "\n",
       "          response  \n",
       "email_id            \n",
       "85120     received  \n",
       "966622     clicked  \n",
       "777221    received  \n",
       "493711    received  \n",
       "106887    received  "
      ]
     },
     "execution_count": 24,
     "metadata": {},
     "output_type": "execute_result"
    }
   ],
   "source": [
    "emails = pd.read_csv(\"email_table.csv\",index_col=\"email_id\")\n",
    "emails.rename(columns={'user_past_purchases':'purchases','user_country':'country'},inplace=True)\n",
    "weekday2index = {\"Monday\":1,\"Tuesday\":2,\"Wednesday\":3,\"Thursday\":4,\"Friday\":5,\"Saturday\":6,\"Sunday\":7}\n",
    "emails[\"weekday\"] = emails.weekday.map(weekday2index)\n",
    "emails['is_personalized']=(emails.email_version == \"personalized\").astype(np.int)\n",
    "emails['long_email']=(emails.email_text==\"long_email\").astype(np.int)\n",
    "emails=emails.drop(columns=['email_text','email_version'])\n",
    "emails[\"response\"] = \"received\"\n",
    "open_users = pd.read_csv(\"email_opened_table.csv\").email_id\n",
    "emails.loc[open_users,\"response\"] = \"opened\"\n",
    "\n",
    "click_users = pd.read_csv(\"link_clicked_table.csv\").email_id\n",
    "emails.loc[click_users,\"response\"] = 'clicked'\n",
    "emails.head()"
   ]
  },
  {
   "cell_type": "markdown",
   "id": "69816aa8",
   "metadata": {},
   "source": [
    "## What percentage of users opened the email and what percentage clicked on the link within the email?"
   ]
  },
  {
   "cell_type": "code",
   "execution_count": 29,
   "id": "d0a34b1f",
   "metadata": {},
   "outputs": [
    {
     "name": "stdout",
     "output_type": "stream",
     "text": [
      "10.39% of users opened the email\n",
      "2.12% of users clicked the link\n"
     ]
    }
   ],
   "source": [
    "rslt_dist = emails.response.value_counts(normalize=True)\n",
    "pd.DataFrame(rslt_dist).rename(columns={'response':'Percentage'})"
   ]
  },
  {
   "cell_type": "code",
   "execution_count": 31,
   "id": "61552d1d",
   "metadata": {},
   "outputs": [
    {
     "name": "stdout",
     "output_type": "stream",
     "text": [
      "among all users received emails, 10.39% of users opened the email\n",
      "among all users received emails, 2.12% of users clicked the link\n"
     ]
    }
   ],
   "source": [
    "print(\"among all users received emails, {:.2f}% of users opened the email\".format((1 - rslt_dist.received) * 100))\n",
    "print(\"among all users received emails, {:.2f}% of users clicked the link\".format(rslt_dist.clicked * 100))"
   ]
  },
  {
   "cell_type": "code",
   "execution_count": 94,
   "id": "272420e5",
   "metadata": {},
   "outputs": [],
   "source": [
    "def count_result_ratio(df):\n",
    "    counts = df.response.value_counts(normalize=True)\n",
    "    counts['total'] = df.shape[0]\n",
    "    return counts\n",
    "\n",
    "def grp_count_plotbar(key):\n",
    "    grpresult = emails.groupby(key).apply(count_result_ratio)\n",
    "    # grpresult.loc[:,[\"received\",\"opened\",'clicked']].plot(kind='bar')\n",
    "    #grpresult= pd.DataFrame(grpresult)\n",
    "    grpresult.loc[:,['clicked']].plot(kind='bar',title='click ratio vs. {}'.format(key))\n",
    "    plt.xticks(rotation=0)\n",
    "    plt.ylabel('click ratio')\n",
    "    return grpresult"
   ]
  },
  {
   "cell_type": "markdown",
   "id": "bc87a619",
   "metadata": {},
   "source": [
    "## Explore the data"
   ]
  },
  {
   "cell_type": "code",
   "execution_count": 62,
   "id": "fc61957b",
   "metadata": {},
   "outputs": [
    {
     "data": {
      "text/html": [
       "<div>\n",
       "<style scoped>\n",
       "    .dataframe tbody tr th:only-of-type {\n",
       "        vertical-align: middle;\n",
       "    }\n",
       "\n",
       "    .dataframe tbody tr th {\n",
       "        vertical-align: top;\n",
       "    }\n",
       "\n",
       "    .dataframe thead th {\n",
       "        text-align: right;\n",
       "    }\n",
       "</style>\n",
       "<table border=\"1\" class=\"dataframe\">\n",
       "  <thead>\n",
       "    <tr style=\"text-align: right;\">\n",
       "      <th></th>\n",
       "      <th>chi2scores</th>\n",
       "      <th>fscores</th>\n",
       "    </tr>\n",
       "  </thead>\n",
       "  <tbody>\n",
       "    <tr>\n",
       "      <th>purchases</th>\n",
       "      <td>3448.795660</td>\n",
       "      <td>663.388596</td>\n",
       "    </tr>\n",
       "    <tr>\n",
       "      <th>country</th>\n",
       "      <td>378.554465</td>\n",
       "      <td>435.696911</td>\n",
       "    </tr>\n",
       "    <tr>\n",
       "      <th>is_personalized</th>\n",
       "      <td>316.752872</td>\n",
       "      <td>317.427444</td>\n",
       "    </tr>\n",
       "    <tr>\n",
       "      <th>weekday</th>\n",
       "      <td>210.006087</td>\n",
       "      <td>105.002643</td>\n",
       "    </tr>\n",
       "    <tr>\n",
       "      <th>hour</th>\n",
       "      <td>147.815921</td>\n",
       "      <td>33.992047</td>\n",
       "    </tr>\n",
       "    <tr>\n",
       "      <th>long_email</th>\n",
       "      <td>80.632477</td>\n",
       "      <td>81.209295</td>\n",
       "    </tr>\n",
       "  </tbody>\n",
       "</table>\n",
       "</div>"
      ],
      "text/plain": [
       "                  chi2scores     fscores\n",
       "purchases        3448.795660  663.388596\n",
       "country           378.554465  435.696911\n",
       "is_personalized   316.752872  317.427444\n",
       "weekday           210.006087  105.002643\n",
       "hour              147.815921   33.992047\n",
       "long_email         80.632477   81.209295"
      ]
     },
     "execution_count": 62,
     "metadata": {},
     "output_type": "execute_result"
    }
   ],
   "source": [
    "resp_lb_encoder = LabelEncoder()\n",
    "cnty_lb_encoder = LabelEncoder()\n",
    "\n",
    "X = emails.copy()\n",
    "y = resp_lb_encoder.fit_transform(X.response)\n",
    "del X[\"response\"]\n",
    "\n",
    "feat_names = [\"hour\",\"weekday\",\"country\",\"purchases\",\"long_email\",\"is_personalized\"]\n",
    "X = X.loc[:,feat_names]\n",
    "X[\"country\"] = cnty_lb_encoder.fit_transform(X.country)\n",
    "\n",
    "chi2scores,_ = chi2(X,y)\n",
    "fscores,_ = f_classif(X,y)\n",
    "\n",
    "feat_scores = pd.DataFrame({\"chi2scores\":chi2scores,\"fscores\":fscores},index=feat_names)\n",
    "feat_scores.sort_values(by='chi2scores',ascending=False)"
   ]
  },
  {
   "cell_type": "markdown",
   "id": "a833cd6b",
   "metadata": {},
   "source": [
    "from the test result, we can know that\n",
    "\n",
    "* **important features**: previous purchase counts, user’s country, email’s version (personal or general)\n",
    "* not so important features maybe include: weekday, email’s text (short or long), hour to send the ema"
   ]
  },
  {
   "cell_type": "markdown",
   "id": "8d157223",
   "metadata": {},
   "source": [
    "### Number of items purchased v.s. Response"
   ]
  },
  {
   "cell_type": "code",
   "execution_count": 60,
   "id": "b5a3bf51",
   "metadata": {},
   "outputs": [
    {
     "data": {
      "image/png": "[encoded data removed]",
      "text/plain": [
       "<Figure size 720x360 with 1 Axes>"
      ]
     },
     "metadata": {
      "needs_background": "light"
     },
     "output_type": "display_data"
    }
   ],
   "source": [
    "email_grpby_purchase = emails.groupby(\"purchases\").apply(count_result_ratio).unstack()\n",
    "email_grpby_purchase.fillna(value=0,inplace=True)\n",
    "\n",
    "fig,ax =plt.subplots(nrows=1,ncols=1,figsize=(10, 5))\n",
    "plt.plot(email_grpby_purchase.loc[:,[\"received\",\"opened\",'clicked']],marker='o',markersize=5)\n",
    "plt.legend([\"received\",\"opened\",'clicked'])\n",
    "ax.set_xlabel(\"Items Purchase\")\n",
    "ax.set_ylabel('Ratio')\n",
    "plt.show()"
   ]
  },
  {
   "cell_type": "markdown",
   "id": "65c0ab78",
   "metadata": {},
   "source": [
    "from above plot, we can know, the more items a certain user purchased previously, the more likely that user will open the email or click the link."
   ]
  },
  {
   "cell_type": "markdown",
   "id": "62542fe4",
   "metadata": {},
   "source": [
    "### Country v.s. Response"
   ]
  },
  {
   "cell_type": "code",
   "execution_count": 74,
   "id": "422c9e88",
   "metadata": {},
   "outputs": [
    {
     "data": {
      "text/html": [
       "<div>\n",
       "<style scoped>\n",
       "    .dataframe tbody tr th:only-of-type {\n",
       "        vertical-align: middle;\n",
       "    }\n",
       "\n",
       "    .dataframe tbody tr th {\n",
       "        vertical-align: top;\n",
       "    }\n",
       "\n",
       "    .dataframe thead th {\n",
       "        text-align: right;\n",
       "    }\n",
       "</style>\n",
       "<table border=\"1\" class=\"dataframe\">\n",
       "  <thead>\n",
       "    <tr style=\"text-align: right;\">\n",
       "      <th>response</th>\n",
       "      <th>received</th>\n",
       "      <th>opened</th>\n",
       "      <th>clicked</th>\n",
       "      <th>total</th>\n",
       "    </tr>\n",
       "    <tr>\n",
       "      <th>country</th>\n",
       "      <th></th>\n",
       "      <th></th>\n",
       "      <th></th>\n",
       "      <th></th>\n",
       "    </tr>\n",
       "  </thead>\n",
       "  <tbody>\n",
       "    <tr>\n",
       "      <th>ES</th>\n",
       "      <td>0.960570</td>\n",
       "      <td>0.031103</td>\n",
       "      <td>0.008327</td>\n",
       "      <td>9967.0</td>\n",
       "    </tr>\n",
       "    <tr>\n",
       "      <th>FR</th>\n",
       "      <td>0.958779</td>\n",
       "      <td>0.033217</td>\n",
       "      <td>0.008004</td>\n",
       "      <td>9995.0</td>\n",
       "    </tr>\n",
       "    <tr>\n",
       "      <th>UK</th>\n",
       "      <td>0.879282</td>\n",
       "      <td>0.096043</td>\n",
       "      <td>0.024675</td>\n",
       "      <td>19939.0</td>\n",
       "    </tr>\n",
       "    <tr>\n",
       "      <th>US</th>\n",
       "      <td>0.880481</td>\n",
       "      <td>0.095160</td>\n",
       "      <td>0.024360</td>\n",
       "      <td>60099.0</td>\n",
       "    </tr>\n",
       "  </tbody>\n",
       "</table>\n",
       "</div>"
      ],
      "text/plain": [
       "response  received    opened   clicked    total\n",
       "country                                        \n",
       "ES        0.960570  0.031103  0.008327   9967.0\n",
       "FR        0.958779  0.033217  0.008004   9995.0\n",
       "UK        0.879282  0.096043  0.024675  19939.0\n",
       "US        0.880481  0.095160  0.024360  60099.0"
      ]
     },
     "execution_count": 74,
     "metadata": {},
     "output_type": "execute_result"
    },
    {
     "data": {
      "image/png": "[encoded data removed]",
      "text/plain": [
       "<Figure size 720x360 with 1 Axes>"
      ]
     },
     "metadata": {
      "needs_background": "light"
     },
     "output_type": "display_data"
    }
   ],
   "source": [
    "grp_count_plotbar('country')"
   ]
  },
  {
   "cell_type": "markdown",
   "id": "ebf2cac3",
   "metadata": {},
   "source": [
    "from above plots, we see that, ‘open percentage’ and ‘click percentage’ is much higher (nearly 3 times) in UK and US than in France and Spain.\n",
    "\n",
    "**This may be the translation issue. I guess the emails are written in English, which is unreadable to some non-English-speaking users, which cause the low ‘click ratio’ in non-English-speaking countries.**\n",
    "\n"
   ]
  },
  {
   "cell_type": "markdown",
   "id": "28f70420",
   "metadata": {},
   "source": [
    "### Personalized Email v.s. Response"
   ]
  },
  {
   "cell_type": "code",
   "execution_count": 75,
   "id": "276c8b16",
   "metadata": {},
   "outputs": [
    {
     "data": {
      "text/html": [
       "<div>\n",
       "<style scoped>\n",
       "    .dataframe tbody tr th:only-of-type {\n",
       "        vertical-align: middle;\n",
       "    }\n",
       "\n",
       "    .dataframe tbody tr th {\n",
       "        vertical-align: top;\n",
       "    }\n",
       "\n",
       "    .dataframe thead th {\n",
       "        text-align: right;\n",
       "    }\n",
       "</style>\n",
       "<table border=\"1\" class=\"dataframe\">\n",
       "  <thead>\n",
       "    <tr style=\"text-align: right;\">\n",
       "      <th>response</th>\n",
       "      <th>received</th>\n",
       "      <th>opened</th>\n",
       "      <th>clicked</th>\n",
       "      <th>total</th>\n",
       "    </tr>\n",
       "    <tr>\n",
       "      <th>is_personalized</th>\n",
       "      <th></th>\n",
       "      <th></th>\n",
       "      <th></th>\n",
       "      <th></th>\n",
       "    </tr>\n",
       "  </thead>\n",
       "  <tbody>\n",
       "    <tr>\n",
       "      <th>0</th>\n",
       "      <td>0.920034</td>\n",
       "      <td>0.064829</td>\n",
       "      <td>0.015137</td>\n",
       "      <td>50209.0</td>\n",
       "    </tr>\n",
       "    <tr>\n",
       "      <th>1</th>\n",
       "      <td>0.871864</td>\n",
       "      <td>0.100842</td>\n",
       "      <td>0.027294</td>\n",
       "      <td>49791.0</td>\n",
       "    </tr>\n",
       "  </tbody>\n",
       "</table>\n",
       "</div>"
      ],
      "text/plain": [
       "response         received    opened   clicked    total\n",
       "is_personalized                                       \n",
       "0                0.920034  0.064829  0.015137  50209.0\n",
       "1                0.871864  0.100842  0.027294  49791.0"
      ]
     },
     "execution_count": 75,
     "metadata": {},
     "output_type": "execute_result"
    },
    {
     "data": {
      "image/png": "[encoded data removed]",
      "text/plain": [
       "<Figure size 720x360 with 1 Axes>"
      ]
     },
     "metadata": {
      "needs_background": "light"
     },
     "output_type": "display_data"
    }
   ],
   "source": [
    "grp_count_plotbar('is_personalized')"
   ]
  },
  {
   "cell_type": "markdown",
   "id": "27dae6a7",
   "metadata": {},
   "source": [
    "‘personalized email’ has higher ‘click ratio’ than ‘general email’. this is very easy to understand. Having user's name in the recipient will make uses feel that they're ‘important’ to the company, other than some ordinary people which the company don’t bother to remember his name."
   ]
  },
  {
   "cell_type": "markdown",
   "id": "d49cd3fe",
   "metadata": {},
   "source": [
    "### weekday vs. response"
   ]
  },
  {
   "cell_type": "code",
   "execution_count": 91,
   "id": "2b6afb33",
   "metadata": {},
   "outputs": [
    {
     "data": {
      "text/html": [
       "<div>\n",
       "<style scoped>\n",
       "    .dataframe tbody tr th:only-of-type {\n",
       "        vertical-align: middle;\n",
       "    }\n",
       "\n",
       "    .dataframe tbody tr th {\n",
       "        vertical-align: top;\n",
       "    }\n",
       "\n",
       "    .dataframe thead th {\n",
       "        text-align: right;\n",
       "    }\n",
       "</style>\n",
       "<table border=\"1\" class=\"dataframe\">\n",
       "  <thead>\n",
       "    <tr style=\"text-align: right;\">\n",
       "      <th>response</th>\n",
       "      <th>received</th>\n",
       "      <th>opened</th>\n",
       "      <th>clicked</th>\n",
       "      <th>total</th>\n",
       "    </tr>\n",
       "    <tr>\n",
       "      <th>weekday</th>\n",
       "      <th></th>\n",
       "      <th></th>\n",
       "      <th></th>\n",
       "      <th></th>\n",
       "    </tr>\n",
       "  </thead>\n",
       "  <tbody>\n",
       "    <tr>\n",
       "      <th>1</th>\n",
       "      <td>0.883590</td>\n",
       "      <td>0.093504</td>\n",
       "      <td>0.022906</td>\n",
       "      <td>14363.0</td>\n",
       "    </tr>\n",
       "    <tr>\n",
       "      <th>2</th>\n",
       "      <td>0.879092</td>\n",
       "      <td>0.096019</td>\n",
       "      <td>0.024889</td>\n",
       "      <td>14143.0</td>\n",
       "    </tr>\n",
       "    <tr>\n",
       "      <th>3</th>\n",
       "      <td>0.879296</td>\n",
       "      <td>0.093084</td>\n",
       "      <td>0.027620</td>\n",
       "      <td>14084.0</td>\n",
       "    </tr>\n",
       "    <tr>\n",
       "      <th>4</th>\n",
       "      <td>0.881348</td>\n",
       "      <td>0.094207</td>\n",
       "      <td>0.024445</td>\n",
       "      <td>14277.0</td>\n",
       "    </tr>\n",
       "    <tr>\n",
       "      <th>5</th>\n",
       "      <td>0.925019</td>\n",
       "      <td>0.060944</td>\n",
       "      <td>0.014037</td>\n",
       "      <td>14177.0</td>\n",
       "    </tr>\n",
       "    <tr>\n",
       "      <th>6</th>\n",
       "      <td>0.912005</td>\n",
       "      <td>0.070149</td>\n",
       "      <td>0.017846</td>\n",
       "      <td>14569.0</td>\n",
       "    </tr>\n",
       "    <tr>\n",
       "      <th>7</th>\n",
       "      <td>0.911448</td>\n",
       "      <td>0.071801</td>\n",
       "      <td>0.016751</td>\n",
       "      <td>14387.0</td>\n",
       "    </tr>\n",
       "  </tbody>\n",
       "</table>\n",
       "</div>"
      ],
      "text/plain": [
       "response  received    opened   clicked    total\n",
       "weekday                                        \n",
       "1         0.883590  0.093504  0.022906  14363.0\n",
       "2         0.879092  0.096019  0.024889  14143.0\n",
       "3         0.879296  0.093084  0.027620  14084.0\n",
       "4         0.881348  0.094207  0.024445  14277.0\n",
       "5         0.925019  0.060944  0.014037  14177.0\n",
       "6         0.912005  0.070149  0.017846  14569.0\n",
       "7         0.911448  0.071801  0.016751  14387.0"
      ]
     },
     "execution_count": 91,
     "metadata": {},
     "output_type": "execute_result"
    },
    {
     "data": {
      "image/png": "[encoded data removed]",
      "text/plain": [
       "<Figure size 720x360 with 1 Axes>"
      ]
     },
     "metadata": {
      "needs_background": "light"
     },
     "output_type": "display_data"
    }
   ],
   "source": [
    "grp_count_plotbar('weekday')"
   ]
  },
  {
   "cell_type": "markdown",
   "id": "dd5d5704",
   "metadata": {},
   "source": [
    "Friday, Saturday, Sunday have obviously lower ‘click ratio’ than Monday to Thursday. People normally don’t process emails during weekends.\n",
    "\n"
   ]
  },
  {
   "cell_type": "markdown",
   "id": "e69727b4",
   "metadata": {},
   "source": [
    "### email length vs. response"
   ]
  },
  {
   "cell_type": "code",
   "execution_count": 95,
   "id": "14632419",
   "metadata": {},
   "outputs": [
    {
     "data": {
      "text/html": [
       "<div>\n",
       "<style scoped>\n",
       "    .dataframe tbody tr th:only-of-type {\n",
       "        vertical-align: middle;\n",
       "    }\n",
       "\n",
       "    .dataframe tbody tr th {\n",
       "        vertical-align: top;\n",
       "    }\n",
       "\n",
       "    .dataframe thead th {\n",
       "        text-align: right;\n",
       "    }\n",
       "</style>\n",
       "<table border=\"1\" class=\"dataframe\">\n",
       "  <thead>\n",
       "    <tr style=\"text-align: right;\">\n",
       "      <th>response</th>\n",
       "      <th>received</th>\n",
       "      <th>opened</th>\n",
       "      <th>clicked</th>\n",
       "      <th>total</th>\n",
       "    </tr>\n",
       "    <tr>\n",
       "      <th>long_email</th>\n",
       "      <th></th>\n",
       "      <th></th>\n",
       "      <th></th>\n",
       "      <th></th>\n",
       "    </tr>\n",
       "  </thead>\n",
       "  <tbody>\n",
       "    <tr>\n",
       "      <th>0</th>\n",
       "      <td>0.883698</td>\n",
       "      <td>0.092430</td>\n",
       "      <td>0.023872</td>\n",
       "      <td>49724.0</td>\n",
       "    </tr>\n",
       "    <tr>\n",
       "      <th>1</th>\n",
       "      <td>0.908266</td>\n",
       "      <td>0.073196</td>\n",
       "      <td>0.018538</td>\n",
       "      <td>50276.0</td>\n",
       "    </tr>\n",
       "  </tbody>\n",
       "</table>\n",
       "</div>"
      ],
      "text/plain": [
       "response    received    opened   clicked    total\n",
       "long_email                                       \n",
       "0           0.883698  0.092430  0.023872  49724.0\n",
       "1           0.908266  0.073196  0.018538  50276.0"
      ]
     },
     "execution_count": 95,
     "metadata": {},
     "output_type": "execute_result"
    },
    {
     "data": {
      "image/png": "[encoded data removed]",
      "text/plain": [
       "<Figure size 720x360 with 1 Axes>"
      ]
     },
     "metadata": {
      "needs_background": "light"
     },
     "output_type": "display_data"
    }
   ],
   "source": [
    "grp_count_plotbar('long_email')"
   ]
  },
  {
   "cell_type": "markdown",
   "id": "a153a549",
   "metadata": {},
   "source": [
    "From graph above, we can tell that users tends to open and click short email. I guess users don't like to read long paragraph emails especially advertising emails. But the difference is slight.\n",
    "\n",
    "### sending hour vs. response"
   ]
  },
  {
   "cell_type": "code",
   "execution_count": 115,
   "id": "7868411b",
   "metadata": {},
   "outputs": [
    {
     "data": {
      "image/png": "[encoded data removed]",
      "text/plain": [
       "<Figure size 720x360 with 1 Axes>"
      ]
     },
     "metadata": {
      "needs_background": "light"
     },
     "output_type": "display_data"
    }
   ],
   "source": [
    "a=emails.groupby('hour').apply(count_result_ratio)\n",
    "a= pd.DataFrame(a).unstack()\n",
    "a[('response',  'clicked')].plot(kind='bar',title='click ratio vs. {}'.format('hour'))\n",
    "plt.xticks(rotation=0)\n",
    "plt.ylabel('click ratio')\n",
    "plt.legend(labels='clicked')\n",
    "plt.show()"
   ]
  },
  {
   "cell_type": "markdown",
   "id": "d3915a53",
   "metadata": {},
   "source": [
    "Although from above plot, it seems ‘sending hour’ has some impact on ‘clicked ratio’. however, that may be caused by much fewer examples in late hours. also according to statistical test‘s result, I don’t think ‘sending hour’ is an important feature, and won’t include it in my model.\n",
    "\n",
    "### EDA Conclusion\n",
    "\n",
    "\n",
    "* The more item a certain user purchased in the past, the more likely that user will click the link\n",
    "* Users from English-speaking coutries are more likely to click the link, which may be caused by some translation issue.\n",
    "* Personalized email is more likely to be opened and clicked\n",
    "* Emails sent at weekends is less likely to be opened and clicked\n",
    "* Sending hour and #Paragraphs are not very important features to affect click rate\n"
   ]
  },
  {
   "cell_type": "markdown",
   "id": "7be1ef25",
   "metadata": {},
   "source": [
    "# Model Development\n",
    "\n",
    "## Random Forest"
   ]
  },
  {
   "cell_type": "code",
   "execution_count": 275,
   "id": "ae5cdb8e",
   "metadata": {},
   "outputs": [
    {
     "data": {
      "text/plain": [
       "100000"
      ]
     },
     "execution_count": 275,
     "metadata": {},
     "output_type": "execute_result"
    }
   ],
   "source": [
    "del X\n",
    "X = emails.copy()\n",
    "X = X.loc[:,[\"country\",\"purchases\",\"long_email\",\"is_personalized\"] ]\n",
    "\n",
    "# create new feature\n",
    "X['is_weekend'] = (emails.weekday>=5).astype(int)\n",
    "# One-Hot-Encode 'country' feature\n",
    "X = pd.get_dummies(X,columns=[\"country\"],drop_first=True)\n",
    "# prepare the label\n",
    "y = (emails.response == 'clicked').astype(int)\n",
    "X.sample(5)# get a feeling about current data\n"
   ]
  },
  {
   "cell_type": "code",
   "execution_count": 276,
   "id": "e0b2b019",
   "metadata": {},
   "outputs": [
    {
     "name": "stdout",
     "output_type": "stream",
     "text": [
      "Train set shape: (70000, 7), positive ratio=0.021\n",
      "Test set shape: (30000, 7), positive ratio=0.021\n"
     ]
    }
   ],
   "source": [
    "Xtrain,Xtest,ytrain,ytest = train_test_split(X,y,test_size=0.3,random_state = 1234)\n",
    "print( 'Train set shape: {}, positive ratio={:.3f}'.format(Xtrain.shape,ytrain.mean()))\n",
    "print( 'Test set shape: {}, positive ratio={:.3f}'.format(Xtest.shape,ytest.mean()))"
   ]
  },
  {
   "cell_type": "code",
   "execution_count": 277,
   "id": "be95c402",
   "metadata": {},
   "outputs": [],
   "source": [
    "from sklearn.datasets import make_classification\n",
    "X, y = make_classification(n_samples=5000, n_features=4,n_informative=2, n_redundant=0,random_state=9999, shuffle=False)\n",
    "clf = RandomForestClassifier(max_depth=3, random_state=0)"
   ]
  },
  {
   "cell_type": "code",
   "execution_count": 278,
   "id": "ae7c3f57",
   "metadata": {},
   "outputs": [
    {
     "data": {
      "text/html": [
       "<style>#sk-container-id-8 {color: black;background-color: white;}#sk-container-id-8 pre{padding: 0;}#sk-container-id-8 div.sk-toggleable {background-color: white;}#sk-container-id-8 label.sk-toggleable__label {cursor: pointer;display: block;width: 100%;margin-bottom: 0;padding: 0.3em;box-sizing: border-box;text-align: center;}#sk-container-id-8 label.sk-toggleable__label-arrow:before {content: \"▸\";float: left;margin-right: 0.25em;color: #696969;}#sk-container-id-8 label.sk-toggleable__label-arrow:hover:before {color: black;}#sk-container-id-8 div.sk-estimator:hover label.sk-toggleable__label-arrow:before {color: black;}#sk-container-id-8 div.sk-toggleable__content {max-height: 0;max-width: 0;overflow: hidden;text-align: left;background-color: #f0f8ff;}#sk-container-id-8 div.sk-toggleable__content pre {margin: 0.2em;color: black;border-radius: 0.25em;background-color: #f0f8ff;}#sk-container-id-8 input.sk-toggleable__control:checked~div.sk-toggleable__content {max-height: 200px;max-width: 100%;overflow: auto;}#sk-container-id-8 input.sk-toggleable__control:checked~label.sk-toggleable__label-arrow:before {content: \"▾\";}#sk-container-id-8 div.sk-estimator input.sk-toggleable__control:checked~label.sk-toggleable__label {background-color: #d4ebff;}#sk-container-id-8 div.sk-label input.sk-toggleable__control:checked~label.sk-toggleable__label {background-color: #d4ebff;}#sk-container-id-8 input.sk-hidden--visually {border: 0;clip: rect(1px 1px 1px 1px);clip: rect(1px, 1px, 1px, 1px);height: 1px;margin: -1px;overflow: hidden;padding: 0;position: absolute;width: 1px;}#sk-container-id-8 div.sk-estimator {font-family: monospace;background-color: #f0f8ff;border: 1px dotted black;border-radius: 0.25em;box-sizing: border-box;margin-bottom: 0.5em;}#sk-container-id-8 div.sk-estimator:hover {background-color: #d4ebff;}#sk-container-id-8 div.sk-parallel-item::after {content: \"\";width: 100%;border-bottom: 1px solid gray;flex-grow: 1;}#sk-container-id-8 div.sk-label:hover label.sk-toggleable__label {background-color: #d4ebff;}#sk-container-id-8 div.sk-serial::before {content: \"\";position: absolute;border-left: 1px solid gray;box-sizing: border-box;top: 0;bottom: 0;left: 50%;z-index: 0;}#sk-container-id-8 div.sk-serial {display: flex;flex-direction: column;align-items: center;background-color: white;padding-right: 0.2em;padding-left: 0.2em;position: relative;}#sk-container-id-8 div.sk-item {position: relative;z-index: 1;}#sk-container-id-8 div.sk-parallel {display: flex;align-items: stretch;justify-content: center;background-color: white;position: relative;}#sk-container-id-8 div.sk-item::before, #sk-container-id-8 div.sk-parallel-item::before {content: \"\";position: absolute;border-left: 1px solid gray;box-sizing: border-box;top: 0;bottom: 0;left: 50%;z-index: -1;}#sk-container-id-8 div.sk-parallel-item {display: flex;flex-direction: column;z-index: 1;position: relative;background-color: white;}#sk-container-id-8 div.sk-parallel-item:first-child::after {align-self: flex-end;width: 50%;}#sk-container-id-8 div.sk-parallel-item:last-child::after {align-self: flex-start;width: 50%;}#sk-container-id-8 div.sk-parallel-item:only-child::after {width: 0;}#sk-container-id-8 div.sk-dashed-wrapped {border: 1px dashed gray;margin: 0 0.4em 0.5em 0.4em;box-sizing: border-box;padding-bottom: 0.4em;background-color: white;}#sk-container-id-8 div.sk-label label {font-family: monospace;font-weight: bold;display: inline-block;line-height: 1.2em;}#sk-container-id-8 div.sk-label-container {text-align: center;}#sk-container-id-8 div.sk-container {/* jupyter's `normalize.less` sets `[hidden] { display: none; }` but bootstrap.min.css set `[hidden] { display: none !important; }` so we also need the `!important` here to be able to override the default hidden behavior on the sphinx rendered scikit-learn.org. See: https://github.com/scikit-learn/scikit-learn/issues/21755 */display: inline-block !important;position: relative;}#sk-container-id-8 div.sk-text-repr-fallback {display: none;}</style><div id=\"sk-container-id-8\" class=\"sk-top-container\"><div class=\"sk-text-repr-fallback\"><pre>RandomForestClassifier(max_depth=3, random_state=0)</pre><b>In a Jupyter environment, please rerun this cell to show the HTML representation or trust the notebook. <br />On GitHub, the HTML representation is unable to render, please try loading this page with nbviewer.org.</b></div><div class=\"sk-container\" hidden><div class=\"sk-item\"><div class=\"sk-estimator sk-toggleable\"><input class=\"sk-toggleable__control sk-hidden--visually\" id=\"sk-estimator-id-8\" type=\"checkbox\" checked><label for=\"sk-estimator-id-8\" class=\"sk-toggleable__label sk-toggleable__label-arrow\">RandomForestClassifier</label><div class=\"sk-toggleable__content\"><pre>RandomForestClassifier(max_depth=3, random_state=0)</pre></div></div></div></div></div>"
      ],
      "text/plain": [
       "RandomForestClassifier(max_depth=3, random_state=0)"
      ]
     },
     "execution_count": 278,
     "metadata": {},
     "output_type": "execute_result"
    }
   ],
   "source": [
    "clf.fit(Xtrain, ytrain)"
   ]
  },
  {
   "cell_type": "code",
   "execution_count": 279,
   "id": "34587000",
   "metadata": {},
   "outputs": [
    {
     "data": {
      "text/html": [
       "<div>\n",
       "<style scoped>\n",
       "    .dataframe tbody tr th:only-of-type {\n",
       "        vertical-align: middle;\n",
       "    }\n",
       "\n",
       "    .dataframe tbody tr th {\n",
       "        vertical-align: top;\n",
       "    }\n",
       "\n",
       "    .dataframe thead th {\n",
       "        text-align: right;\n",
       "    }\n",
       "</style>\n",
       "<table border=\"1\" class=\"dataframe\">\n",
       "  <thead>\n",
       "    <tr style=\"text-align: right;\">\n",
       "      <th></th>\n",
       "      <th>Feature</th>\n",
       "      <th>Importance</th>\n",
       "    </tr>\n",
       "  </thead>\n",
       "  <tbody>\n",
       "    <tr>\n",
       "      <th>0</th>\n",
       "      <td>purchases</td>\n",
       "      <td>0.576823</td>\n",
       "    </tr>\n",
       "    <tr>\n",
       "      <th>1</th>\n",
       "      <td>is_personalized</td>\n",
       "      <td>0.185608</td>\n",
       "    </tr>\n",
       "    <tr>\n",
       "      <th>2</th>\n",
       "      <td>is_weekend</td>\n",
       "      <td>0.086991</td>\n",
       "    </tr>\n",
       "    <tr>\n",
       "      <th>3</th>\n",
       "      <td>country_FR</td>\n",
       "      <td>0.065478</td>\n",
       "    </tr>\n",
       "    <tr>\n",
       "      <th>4</th>\n",
       "      <td>country_US</td>\n",
       "      <td>0.047401</td>\n",
       "    </tr>\n",
       "    <tr>\n",
       "      <th>5</th>\n",
       "      <td>country_UK</td>\n",
       "      <td>0.019200</td>\n",
       "    </tr>\n",
       "    <tr>\n",
       "      <th>6</th>\n",
       "      <td>long_email</td>\n",
       "      <td>0.018498</td>\n",
       "    </tr>\n",
       "  </tbody>\n",
       "</table>\n",
       "</div>"
      ],
      "text/plain": [
       "           Feature  Importance\n",
       "0        purchases    0.576823\n",
       "1  is_personalized    0.185608\n",
       "2       is_weekend    0.086991\n",
       "3       country_FR    0.065478\n",
       "4       country_US    0.047401\n",
       "5       country_UK    0.019200\n",
       "6       long_email    0.018498"
      ]
     },
     "execution_count": 279,
     "metadata": {},
     "output_type": "execute_result"
    }
   ],
   "source": [
    "feature_importance_table=pd.DataFrame(zip(clf.feature_names_in_,clf.feature_importances_),columns=['Feature','Importance']).sort_values('Importance',ascending=False)\n",
    "feature_importance_table.reset_index(drop=True)"
   ]
  },
  {
   "cell_type": "code",
   "execution_count": 280,
   "id": "6da59b9e",
   "metadata": {},
   "outputs": [
    {
     "data": {
      "image/png": "[encoded data removed]",
      "text/plain": [
       "<Figure size 720x360 with 1 Axes>"
      ]
     },
     "metadata": {
      "needs_background": "light"
     },
     "output_type": "display_data"
    }
   ],
   "source": [
    "fig,ax=plt.subplots(figsize=(10,5))\n",
    "sns.barplot(x='Importance',y='Feature',data=feature_importance_table)\n",
    "plt.show()"
   ]
  },
  {
   "cell_type": "code",
   "execution_count": 281,
   "id": "b034062b",
   "metadata": {},
   "outputs": [
    {
     "name": "stdout",
     "output_type": "stream",
     "text": [
      "              precision    recall  f1-score   support\n",
      "\n",
      "           0       0.98      1.00      0.99     29361\n",
      "           1       0.00      0.00      0.00       639\n",
      "\n",
      "    accuracy                           0.98     30000\n",
      "   macro avg       0.49      0.50      0.49     30000\n",
      "weighted avg       0.96      0.98      0.97     30000\n",
      "\n"
     ]
    }
   ],
   "source": [
    "print(classification_report(ytest,y_predict))"
   ]
  },
  {
   "cell_type": "markdown",
   "id": "658d41a2",
   "metadata": {},
   "source": [
    "since the data is highly imbalanced (positive examples is only 2% of the total examples), if using default probability threshold (0.5), the model just classify every example as negative, so we need to plot the ROC curve and choose a better probability threshold."
   ]
  },
  {
   "cell_type": "code",
   "execution_count": 284,
   "id": "4c734787",
   "metadata": {},
   "outputs": [
    {
     "data": {
      "image/png": "[encoded data removed]",
      "text/plain": [
       "<Figure size 432x288 with 1 Axes>"
      ]
     },
     "metadata": {
      "needs_background": "light"
     },
     "output_type": "display_data"
    }
   ],
   "source": [
    "y_pred_proba = clf.predict_proba(Xtest)[::,1]\n",
    "fpr, tpr, _ = roc_curve(ytest,  y_pred_proba)\n",
    "\n",
    "#create ROC curve\n",
    "plt.plot(fpr,tpr)\n",
    "plt.ylabel('True Positive Rate')\n",
    "plt.xlabel('False Positive Rate')\n",
    "plt.show()"
   ]
  },
  {
   "cell_type": "code",
   "execution_count": 305,
   "id": "c46ae62f",
   "metadata": {},
   "outputs": [
    {
     "name": "stdout",
     "output_type": "stream",
     "text": [
      "97.69 %\n"
     ]
    }
   ],
   "source": [
    "random_forest = RandomForestClassifier(n_estimators=100)\n",
    "random_forest.fit(Xtrain, ytrain)\n",
    "\n",
    "threshold = 0.2\n",
    "\n",
    "predicted_proba = random_forest.predict_proba(Xtest)\n",
    "predicted = (predicted_proba [:,1] >= threshold).astype('int')\n",
    "\n",
    "accuracy = accuracy_score(ytest, predicted)\n",
    "print(round(accuracy,4,)*100, \"%\")"
   ]
  },
  {
   "cell_type": "code",
   "execution_count": 306,
   "id": "bd4f0c8c",
   "metadata": {},
   "outputs": [
    {
     "name": "stdout",
     "output_type": "stream",
     "text": [
      "              precision    recall  f1-score   support\n",
      "\n",
      "           0       0.98      1.00      0.99     29361\n",
      "           1       0.13      0.02      0.03       639\n",
      "\n",
      "    accuracy                           0.98     30000\n",
      "   macro avg       0.56      0.51      0.51     30000\n",
      "weighted avg       0.96      0.98      0.97     30000\n",
      "\n"
     ]
    }
   ],
   "source": [
    "print(classification_report(ytest, predicted))"
   ]
  },
  {
   "cell_type": "markdown",
   "id": "750e7165",
   "metadata": {},
   "source": [
    "## Xgboost\n",
    "\n",
    "Due to time limitation, I will just train one GBM model.\n",
    "\n",
    "If given sufficient time, I will apply following strategies to improve the model:\n",
    "\n",
    "build multiple models, and ensemble them (average or stacking) to improve the prediction performance.\n",
    "try more hyper-parameters to find better ones."
   ]
  },
  {
   "cell_type": "code",
   "execution_count": 128,
   "id": "05f96b1a",
   "metadata": {},
   "outputs": [],
   "source": [
    "train_matrix = xgb.DMatrix(Xtrain,ytrain)\n",
    "test_matrix = xgb.DMatrix(Xtest)"
   ]
  },
  {
   "cell_type": "code",
   "execution_count": 168,
   "id": "0001ad81",
   "metadata": {},
   "outputs": [
    {
     "name": "stdout",
     "output_type": "stream",
     "text": [
      "[21:27:04] WARNING: /Users/runner/work/xgboost/xgboost/python-package/build/temp.macosx-10.9-x86_64-3.7/xgboost/src/learner.cc:627: \n",
      "Parameters: { \"early_stopping_rounds\", \"nrounds\" } might not be used.\n",
      "\n",
      "  This could be a false alarm, with some parameters getting used by language bindings but\n",
      "  then being mistakenly passed down to XGBoost core, or some parameter actually being used\n",
      "  but getting flagged wrongly here. Please open an issue if you find any such cases.\n",
      "\n",
      "\n",
      "[21:27:04] WARNING: /Users/runner/work/xgboost/xgboost/python-package/build/temp.macosx-10.9-x86_64-3.7/xgboost/src/learner.cc:627: \n",
      "Parameters: { \"early_stopping_rounds\", \"nrounds\" } might not be used.\n",
      "\n",
      "  This could be a false alarm, with some parameters getting used by language bindings but\n",
      "  then being mistakenly passed down to XGBoost core, or some parameter actually being used\n",
      "  but getting flagged wrongly here. Please open an issue if you find any such cases.\n",
      "\n",
      "\n",
      "[21:27:04] WARNING: /Users/runner/work/xgboost/xgboost/python-package/build/temp.macosx-10.9-x86_64-3.7/xgboost/src/learner.cc:627: \n",
      "Parameters: { \"early_stopping_rounds\", \"nrounds\" } might not be used.\n",
      "\n",
      "  This could be a false alarm, with some parameters getting used by language bindings but\n",
      "  then being mistakenly passed down to XGBoost core, or some parameter actually being used\n",
      "  but getting flagged wrongly here. Please open an issue if you find any such cases.\n",
      "\n",
      "\n",
      "[21:27:04] WARNING: /Users/runner/work/xgboost/xgboost/python-package/build/temp.macosx-10.9-x86_64-3.7/xgboost/src/learner.cc:627: \n",
      "Parameters: { \"early_stopping_rounds\", \"nrounds\" } might not be used.\n",
      "\n",
      "  This could be a false alarm, with some parameters getting used by language bindings but\n",
      "  then being mistakenly passed down to XGBoost core, or some parameter actually being used\n",
      "  but getting flagged wrongly here. Please open an issue if you find any such cases.\n",
      "\n",
      "\n",
      "[21:27:04] WARNING: /Users/runner/work/xgboost/xgboost/python-package/build/temp.macosx-10.9-x86_64-3.7/xgboost/src/learner.cc:627: \n",
      "Parameters: { \"early_stopping_rounds\", \"nrounds\" } might not be used.\n",
      "\n",
      "  This could be a false alarm, with some parameters getting used by language bindings but\n",
      "  then being mistakenly passed down to XGBoost core, or some parameter actually being used\n",
      "  but getting flagged wrongly here. Please open an issue if you find any such cases.\n",
      "\n",
      "\n"
     ]
    }
   ],
   "source": [
    "params = {}\n",
    "params['objective'] = 'binary:logistic'  # output probabilities\n",
    "params['eval_metric'] = 'auc'\n",
    "params[\"nrounds\"] = 300\n",
    "params[\"early_stopping_rounds\"] = 30\n",
    "# params['min_child_weight'] = 2\n",
    "params['max_depth'] = 6\n",
    "params['eta'] = 0.1\n",
    "params[\"subsample\"] = 0.8\n",
    "params[\"colsample_bytree\"] = 0.8\n",
    "\n",
    "cv_results = xgb.cv(params,train_matrix,\n",
    "                    num_boost_round = params[\"nrounds\"],\n",
    "                    nfold = params.get('nfold',5),\n",
    "                    metrics = params['eval_metric'],\n",
    "                    early_stopping_rounds = params[\"early_stopping_rounds\"],\n",
    "                    verbose_eval = False,\n",
    "                    seed = seed)"
   ]
  },
  {
   "cell_type": "code",
   "execution_count": 169,
   "id": "a581939c",
   "metadata": {},
   "outputs": [
    {
     "name": "stdout",
     "output_type": "stream",
     "text": [
      "best number of trees: 55\n"
     ]
    }
   ],
   "source": [
    "n_best_trees = cv_results.shape[0]\n",
    "print(\"best number of trees: {}\".format(n_best_trees))"
   ]
  },
  {
   "cell_type": "code",
   "execution_count": 173,
   "id": "46f0a61f",
   "metadata": {},
   "outputs": [
    {
     "name": "stdout",
     "output_type": "stream",
     "text": [
      "[21:28:36] WARNING: /Users/runner/work/xgboost/xgboost/python-package/build/temp.macosx-10.9-x86_64-3.7/xgboost/src/learner.cc:627: \n",
      "Parameters: { \"early_stopping_rounds\", \"nrounds\" } might not be used.\n",
      "\n",
      "  This could be a false alarm, with some parameters getting used by language bindings but\n",
      "  then being mistakenly passed down to XGBoost core, or some parameter actually being used\n",
      "  but getting flagged wrongly here. Please open an issue if you find any such cases.\n",
      "\n",
      "\n"
     ]
    }
   ],
   "source": [
    "watchlist = [(train_matrix, 'train')]\n",
    "gbt = xgb.train(params, train_matrix, n_best_trees,watchlist,verbose_eval=0)"
   ]
  },
  {
   "cell_type": "code",
   "execution_count": 152,
   "id": "1cbe612d",
   "metadata": {},
   "outputs": [
    {
     "data": {
      "image/png": "[encoded data removed]",
      "text/plain": [
       "<Figure size 720x360 with 1 Axes>"
      ]
     },
     "metadata": {
      "needs_background": "light"
     },
     "output_type": "display_data"
    }
   ],
   "source": [
    "xgb.plot_importance(gbt)\n",
    "plt.show()"
   ]
  },
  {
   "cell_type": "markdown",
   "id": "fa1d2fe8",
   "metadata": {},
   "source": [
    "Above feature importance match the result from explorary analysis.\n"
   ]
  },
  {
   "cell_type": "markdown",
   "id": "09fdba9b",
   "metadata": {},
   "source": [
    "## Plot ROC curve and choose better probability threshold\n",
    "since the data is highly imbalanced (positive examples is only 2% of the total examples), if using default probability threshold (0.5), the model just classify every example as negative, so we need to plot the ROC curve and choose a better probability threshold.\n",
    "\n",
    "But ROC cannot be plot on either training set or test set. so I split the original train set into ‘training’ and ‘validation’ sets, re-train on ‘training set’ and plot ROC on ‘validation set’."
   ]
  },
  {
   "cell_type": "code",
   "execution_count": 159,
   "id": "a1a73b65",
   "metadata": {},
   "outputs": [],
   "source": [
    "def validation_roc():\n",
    "    Xtrain_only,Xvalid,ytrain_only,yvalid = train_test_split(Xtrain,ytrain,test_size=0.2,random_state=seed)\n",
    "\n",
    "    train_only_matrix = xgb.DMatrix(Xtrain_only,ytrain_only)\n",
    "    valid_matrix = xgb.DMatrix(Xvalid)\n",
    "\n",
    "    # retrain on training set\n",
    "    gbt_train_only = xgb.train(params, train_only_matrix, n_best_trees)\n",
    "\n",
    "    # predict on validation set\n",
    "    yvalid_probas = gbt_train_only.predict(valid_matrix, ntree_limit=n_best_trees)\n",
    "\n",
    "    d = {}\n",
    "    d['FPR'],d['TPR'],d['Threshold'] = roc_curve(yvalid,yvalid_probas)\n",
    "    return pd.DataFrame(d)"
   ]
  },
  {
   "cell_type": "code",
   "execution_count": 175,
   "id": "e402268d",
   "metadata": {},
   "outputs": [
    {
     "name": "stdout",
     "output_type": "stream",
     "text": [
      "[21:29:28] WARNING: /Users/runner/work/xgboost/xgboost/python-package/build/temp.macosx-10.9-x86_64-3.7/xgboost/src/learner.cc:627: \n",
      "Parameters: { \"early_stopping_rounds\", \"nrounds\" } might not be used.\n",
      "\n",
      "  This could be a false alarm, with some parameters getting used by language bindings but\n",
      "  then being mistakenly passed down to XGBoost core, or some parameter actually being used\n",
      "  but getting flagged wrongly here. Please open an issue if you find any such cases.\n",
      "\n",
      "\n"
     ]
    },
    {
     "data": {
      "image/png": "[encoded data removed]",
      "text/plain": [
       "<Figure size 432x288 with 1 Axes>"
      ]
     },
     "metadata": {
      "needs_background": "light"
     },
     "output_type": "display_data"
    }
   ],
   "source": [
    "roc_results = validation_roc()\n",
    "_ = plt.figure()\n",
    "plt.plot(roc_results.FPR,roc_results.TPR)\n",
    "plt.xlabel(\"FPR\")\n",
    "plt.ylabel('TPR')\n",
    "plt.show()"
   ]
  },
  {
   "cell_type": "code",
   "execution_count": 177,
   "id": "9e50bc5d",
   "metadata": {},
   "outputs": [
    {
     "data": {
      "text/html": [
       "<div>\n",
       "<style scoped>\n",
       "    .dataframe tbody tr th:only-of-type {\n",
       "        vertical-align: middle;\n",
       "    }\n",
       "\n",
       "    .dataframe tbody tr th {\n",
       "        vertical-align: top;\n",
       "    }\n",
       "\n",
       "    .dataframe thead th {\n",
       "        text-align: right;\n",
       "    }\n",
       "</style>\n",
       "<table border=\"1\" class=\"dataframe\">\n",
       "  <thead>\n",
       "    <tr style=\"text-align: right;\">\n",
       "      <th></th>\n",
       "      <th>FPR</th>\n",
       "      <th>TPR</th>\n",
       "      <th>Threshold</th>\n",
       "    </tr>\n",
       "  </thead>\n",
       "  <tbody>\n",
       "    <tr>\n",
       "      <th>193</th>\n",
       "      <td>0.278293</td>\n",
       "      <td>0.603390</td>\n",
       "      <td>0.027183</td>\n",
       "    </tr>\n",
       "    <tr>\n",
       "      <th>194</th>\n",
       "      <td>0.278657</td>\n",
       "      <td>0.603390</td>\n",
       "      <td>0.027089</td>\n",
       "    </tr>\n",
       "    <tr>\n",
       "      <th>195</th>\n",
       "      <td>0.282744</td>\n",
       "      <td>0.610169</td>\n",
       "      <td>0.027065</td>\n",
       "    </tr>\n",
       "    <tr>\n",
       "      <th>196</th>\n",
       "      <td>0.282816</td>\n",
       "      <td>0.610169</td>\n",
       "      <td>0.026749</td>\n",
       "    </tr>\n",
       "    <tr>\n",
       "      <th>197</th>\n",
       "      <td>0.291062</td>\n",
       "      <td>0.616949</td>\n",
       "      <td>0.026713</td>\n",
       "    </tr>\n",
       "    <tr>\n",
       "      <th>198</th>\n",
       "      <td>0.291572</td>\n",
       "      <td>0.616949</td>\n",
       "      <td>0.026185</td>\n",
       "    </tr>\n",
       "    <tr>\n",
       "      <th>199</th>\n",
       "      <td>0.301934</td>\n",
       "      <td>0.637288</td>\n",
       "      <td>0.025885</td>\n",
       "    </tr>\n",
       "    <tr>\n",
       "      <th>200</th>\n",
       "      <td>0.302371</td>\n",
       "      <td>0.637288</td>\n",
       "      <td>0.025824</td>\n",
       "    </tr>\n",
       "    <tr>\n",
       "      <th>201</th>\n",
       "      <td>0.302663</td>\n",
       "      <td>0.637288</td>\n",
       "      <td>0.025737</td>\n",
       "    </tr>\n",
       "  </tbody>\n",
       "</table>\n",
       "</div>"
      ],
      "text/plain": [
       "          FPR       TPR  Threshold\n",
       "193  0.278293  0.603390   0.027183\n",
       "194  0.278657  0.603390   0.027089\n",
       "195  0.282744  0.610169   0.027065\n",
       "196  0.282816  0.610169   0.026749\n",
       "197  0.291062  0.616949   0.026713\n",
       "198  0.291572  0.616949   0.026185\n",
       "199  0.301934  0.637288   0.025885\n",
       "200  0.302371  0.637288   0.025824\n",
       "201  0.302663  0.637288   0.025737"
      ]
     },
     "execution_count": 177,
     "metadata": {},
     "output_type": "execute_result"
    }
   ],
   "source": [
    "roc_results.loc[(roc_results.TPR > 0.6) & (roc_results.TPR < 0.65),:]"
   ]
  },
  {
   "cell_type": "code",
   "execution_count": 180,
   "id": "02d35815",
   "metadata": {},
   "outputs": [
    {
     "name": "stdout",
     "output_type": "stream",
     "text": [
      "              precision    recall  f1-score   support\n",
      "\n",
      "           0       0.99      0.75      0.86     68520\n",
      "           1       0.05      0.60      0.09      1480\n",
      "\n",
      "    accuracy                           0.75     70000\n",
      "   macro avg       0.52      0.68      0.47     70000\n",
      "weighted avg       0.97      0.75      0.84     70000\n",
      "\n"
     ]
    }
   ],
   "source": [
    "pos_prob_threshold = 0.029118\n",
    "\n",
    "def adjust_predict(matrix):\n",
    "    y_probas = gbt.predict(matrix, ntree_limit=n_best_trees)\n",
    "    return (y_probas > pos_prob_threshold).astype(int)\n",
    "ytrain_pred = adjust_predict(train_matrix)\n",
    "print(classification_report(ytrain,ytrain_pred))"
   ]
  },
  {
   "cell_type": "code",
   "execution_count": 182,
   "id": "c3248eaf",
   "metadata": {},
   "outputs": [
    {
     "name": "stdout",
     "output_type": "stream",
     "text": [
      "              precision    recall  f1-score   support\n",
      "\n",
      "           0       0.99      0.76      0.86     29361\n",
      "           1       0.04      0.51      0.08       639\n",
      "\n",
      "    accuracy                           0.75     30000\n",
      "   macro avg       0.51      0.63      0.47     30000\n",
      "weighted avg       0.97      0.75      0.84     30000\n",
      "\n"
     ]
    }
   ],
   "source": [
    "ytest_pred = adjust_predict(test_matrix)\n",
    "print(classification_report(ytest,ytest_pred))"
   ]
  },
  {
   "cell_type": "code",
   "execution_count": 183,
   "id": "0387b36c",
   "metadata": {},
   "outputs": [
    {
     "name": "stdout",
     "output_type": "stream",
     "text": [
      "test precision: 4.33%\n",
      "test recall: 50.70%\n"
     ]
    }
   ],
   "source": [
    "print(\"test precision: {:.2f}%\".format(precision_score(ytest,ytest_pred) * 100))\n",
    "print (\"test recall: {:.2f}%\".format(recall_score(ytest,ytest_pred) * 100))"
   ]
  },
  {
   "cell_type": "markdown",
   "id": "06b94120",
   "metadata": {},
   "source": [
    "## Answer question 2 and question 3’s first part\n",
    "### The VP of marketing thinks that it is stupid to send emails to a random subset and in a random way. Based on all the information you have about the emails that were sent, can you build a model to optimize in future email campaigns to maximize the probability of users clicking on the link inside the email?\n",
    "\n",
    "### By how much do you think your model would improve click through rate ( deﬁned as # of users who click on the link / total users who received the email). How would you test that?\n",
    "\n",
    "I have build a Gradient Boosting Tree model in previous section which predicts whether a user will click the link or not. Then the new email campaign strategy will be: only send email to users which my GBM model predicts positive."
   ]
  },
  {
   "cell_type": "code",
   "execution_count": 186,
   "id": "5ea8daac",
   "metadata": {},
   "outputs": [
    {
     "data": {
      "text/plain": [
       "# of emails sent in old way    30000.00\n",
       "# of emails sent in new way     7485.00\n",
       "saving percentage (%)             75.05\n",
       "dtype: float64"
      ]
     },
     "execution_count": 186,
     "metadata": {},
     "output_type": "execute_result"
    }
   ],
   "source": [
    "n_emails_old_sent = ytest_pred.shape[0]\n",
    "n_emails_new_sent = ytest_pred.sum()\n",
    "saving_percentage = 100 - n_emails_new_sent * 100.0/n_emails_old_sent\n",
    "pd.Series({'# of emails sent in old way': n_emails_old_sent,\n",
    "           '# of emails sent in new way': n_emails_new_sent,\n",
    "           'saving percentage (%)': saving_percentage})"
   ]
  },
  {
   "cell_type": "markdown",
   "id": "311688fd",
   "metadata": {},
   "source": [
    "my model only need to send 25% of the old email amount, saving 75% amount.\n",
    "4.33% of the receiver will open email and click the link. compare with old strategy, whose click rate is 2.12% , my new strategy can double the click rate.\n"
   ]
  },
  {
   "cell_type": "markdown",
   "id": "e83a71a6",
   "metadata": {},
   "source": [
    "### By how much do you think your model would improve click through rate ( deﬁned as # of users who click on the link / total users who received the email). How would you test that?\n",
    "\n",
    "To test my conclusion, we need to perform a A/B test:\n",
    "\n",
    "* Randomly assign users to two groups, Control group and Experiment group.  \n",
    "* In Control group, still use the old email-campaign strategy, i.e., just send emails to all users in Control group.  \n",
    "* In Experiment group, use my model to predict whether the user will click the link or not. and only send emails to those users whose predictive result is positive.\n",
    "* Then we preform a one-tail unpaired t-test to test whether Experiement group’s population proportion is higher than Control group’s population proportion."
   ]
  },
  {
   "cell_type": "code",
   "execution_count": null,
   "id": "776be0a4",
   "metadata": {},
   "outputs": [],
   "source": []
  }
 ],
 "metadata": {
  "kernelspec": {
   "display_name": "Python 3 (ipykernel)",
   "language": "python",
   "name": "python3"
  },
  "language_info": {
   "codemirror_mode": {
    "name": "ipython",
    "version": 3
   },
   "file_extension": ".py",
   "mimetype": "text/x-python",
   "name": "python",
   "nbconvert_exporter": "python",
   "pygments_lexer": "ipython3",
   "version": "3.9.7"
  },
  "toc": {
   "base_numbering": 1,
   "nav_menu": {},
   "number_sections": true,
   "sideBar": true,
   "skip_h1_title": false,
   "title_cell": "Table of Contents",
   "title_sidebar": "Contents",
   "toc_cell": false,
   "toc_position": {},
   "toc_section_display": true,
   "toc_window_display": false
  }
 },
 "nbformat": 4,
 "nbformat_minor": 5
}
